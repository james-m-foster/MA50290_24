{
 "cells": [
  {
   "cell_type": "markdown",
   "metadata": {},
   "source": [
    "# Problem Sheet 9\n",
    "\n",
    "## Perceptron algorithm"
   ]
  },
  {
   "cell_type": "markdown",
   "metadata": {},
   "source": [
    "## Task (a):\n",
    "Consider the dataset $\\mathbf{D} = \\{(\\mathbf{x}_1,y_1), (\\mathbf{x}_2,y_2)\\}$ from Problem Sheet 6, where\n",
    "$$\n",
    "\\mathbf{x}_1 = \\begin{bmatrix}-1 \\\\ 1\\end{bmatrix}, \\qquad \\mathbf{x}_2 = \\begin{bmatrix}2 \\\\ -1\\end{bmatrix},\n",
    "$$\n",
    "and $y_1=1$, $y_2=-1$.\n",
    "\n",
    "- Calculate iterations $\\boldsymbol\\theta_0\\ldots,\\boldsymbol\\theta_k$ of the Perceptron algorithm until convergence ($y_i \\langle \\boldsymbol\\theta_k, \\mathbf{x}_i\\rangle >0$ for both $i=1$ and $2$) for two choices of $i_0$ in the first step:\n",
    "  - when $i_0=1$ is selected;\n",
    "  - when $i_0=2$ is selected.\n",
    "- Which of these two scenarios produces $\\boldsymbol\\theta_k$ collinear to the Support Vector Machine solution $\\boldsymbol\\theta^* = (-1/2,1/2)$?"
   ]
  },
  {
   "cell_type": "markdown",
   "metadata": {},
   "source": [
    "## Task (b) (Warm-up):\n",
    "\n",
    "- Suggest a method to choose $i_k$ that gives the fastest estimated convergence of the Perceptron algorithm, that is, the largest practically computable lower bound of $\\cos \\angle (\\boldsymbol\\theta^*,\\boldsymbol\\theta_{k+1})$ in Theorem 4.38."
   ]
  },
  {
   "cell_type": "markdown",
   "metadata": {},
   "source": [
    "---"
   ]
  },
  {
   "cell_type": "markdown",
   "metadata": {},
   "source": [
    "## Task 1\n",
    "\n",
    "- Write a Python function `PerceptronM(X,y, K=100)` for the modified Perceptron algorithm designed in Task (b), with the same inputs `X`, `y` and `K` as in the original `Perceptron` function in the `Perceptron.ipynb` notebook. You can also test your function on the same example."
   ]
  },
  {
   "cell_type": "code",
   "execution_count": null,
   "metadata": {},
   "outputs": [],
   "source": []
  }
 ],
 "metadata": {
  "kernelspec": {
   "display_name": "base",
   "language": "python",
   "name": "python3"
  },
  "language_info": {
   "codemirror_mode": {
    "name": "ipython",
    "version": 3
   },
   "file_extension": ".py",
   "mimetype": "text/x-python",
   "name": "python",
   "nbconvert_exporter": "python",
   "pygments_lexer": "ipython3",
   "version": "3.7.16"
  }
 },
 "nbformat": 4,
 "nbformat_minor": 2
}
